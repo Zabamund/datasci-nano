{
 "cells": [
  {
   "cell_type": "markdown",
   "metadata": {},
   "source": [
    "### Analyzing the Stroop Effect\n",
    "Perform the analysis in the space below. Remember to follow [the instructions](https://docs.google.com/document/d/1-OkpZLjG_kX9J6LIQ5IltsqMzVWjh36QpnP2RYpVdPU/pub?embedded=True) and review the [project rubric](https://review.udacity.com/#!/rubrics/71/view) before submitting. Once you've completed the analysis and write-up, download this file as a PDF or HTML file, upload that PDF/HTML into the workspace here (click on the orange Jupyter icon in the upper left then Upload), then use the Submit Project button at the bottom of this page. This will create a zip file containing both this .ipynb doc and the PDF/HTML doc that will be submitted for your project.\n",
    "\n",
    "\n",
    "(1) What is the independent variable? What is the dependent variable?"
   ]
  },
  {
   "cell_type": "markdown",
   "metadata": {},
   "source": [
    "#### Variable definitions\n",
    "\n",
    "\"The independent variable is the variable that is changed or controlled in a scientific experiment to test the effects on the dependent variable.\"\n",
    "[source](http://bit.ly/2IsEkaP)\n",
    "\n",
    "In the Stroop effect experiment, the **independant variable** is the color of the fonts in which the color words are written (this is the variable that is 'changed' in the scientific experiment), and the **dependant variable** is the reaction time recorded for each user between seeing and reading the word (the effects on this time are what we are interested in).\n",
    "[source](http://bit.ly/2IqBqTP)\n",
    "\n",
    "Let the **independant variable** be either:\n",
    "<ul>\n",
    "<li>`sameCol` for *same* color text and ink</li>\n",
    "<li>`diffCol` for *different* color text and ink</li>\n",
    "</ul>\n",
    "\n",
    "And let the **dependant variable** be either:\n",
    "<ul>\n",
    "<li>`congruentTime` for time to see and then read `sameCol`</li>\n",
    "<li>`incongruentTime` for time to see and then read `diffCol`</li>\n",
    "</ul>\n"
   ]
  },
  {
   "cell_type": "markdown",
   "metadata": {},
   "source": [
    "(2) What is an appropriate set of hypotheses for this task? Specify your null and alternative hypotheses, and clearly define any notation used. Justify your choices."
   ]
  },
  {
   "cell_type": "markdown",
   "metadata": {},
   "source": [
    "To define the base hypotheses for this question, let's consider (1) the variables, (2) the data and (3) the pertinance of the answer:\n",
    "\n",
    "<ol>\n",
    "<li>**the variables:** as defined above, we have `sameCol`, `diffCol`, `congruentTime` and `incongruentTime` variables available, these must be considered in the base hypotheses</li>\n",
    "<li>**the data:** the data available represent a complete population for this experiment and are split between `congruentTime` data (see-read times for the `sameCol` case) and `incongruentTime` data (see-read times for the `diffCOl` case)</li>\n",
    "<li>**the pertinence of the answer:** we are interested in knowing whether it takes longer to read incongruent data than congruent data, and therefore whether our brains process the information strictly from a semantic perspective or whether visual effects also affect our textual information processing.</li>\n",
    "</ol>\n",
    "\n",
    "In order to try and avoid a pre-existing bias, let the null and alternative hypotheses be defined as follows:\n",
    "\n",
    "In the **null hypothesis**: average reading times between 'see' and 'read' *will not be* longer for the incongruent data than for the congruent data - i.e. people on average *do not take* more time to read color words as a function of the ink used - our brains function on a solely semantic level for reading textual information.\n",
    "\n",
    "In the **alternative hypothesis**: average reading times between 'see' and 'read' *will be* longer for the incongruent data that for the congruent data - i.e. people on average *do take* more time to read color words as a function of the ink used - our brains function on a more complex level read textual information, and process not only the words written, but also their color.\n",
    "\n",
    "Formally:\n",
    "\n",
    "$$H_0: congruentTime_{mean} - incongruentTime_{mean} \\geq 0$$\n",
    "$$H_1: congruentTime_{mean} - incongruentTime_{mean} < 0$$"
   ]
  },
  {
   "cell_type": "markdown",
   "metadata": {},
   "source": [
    "(3) Report some descriptive statistics regarding this dataset. Include at least one measure of central tendency and at least one measure of variability. The name of the data file is 'stroopdata.csv'."
   ]
  },
  {
   "cell_type": "code",
   "execution_count": 184,
   "metadata": {
    "collapsed": true
   },
   "outputs": [],
   "source": [
    "# import libraries\n",
    "import pandas as pd\n",
    "import numpy as np\n",
    "import math\n",
    "import statistics as stats\n",
    "import matplotlib.pyplot as plt\n",
    "% matplotlib inline\n",
    "import seaborn as sns"
   ]
  },
  {
   "cell_type": "code",
   "execution_count": 185,
   "metadata": {
    "collapsed": true
   },
   "outputs": [],
   "source": [
    "# import data\n",
    "df_raw = pd.read_csv('./stroopdata.csv')"
   ]
  },
  {
   "cell_type": "code",
   "execution_count": 186,
   "metadata": {},
   "outputs": [
    {
     "data": {
      "text/html": [
       "<div>\n",
       "<style>\n",
       "    .dataframe thead tr:only-child th {\n",
       "        text-align: right;\n",
       "    }\n",
       "\n",
       "    .dataframe thead th {\n",
       "        text-align: left;\n",
       "    }\n",
       "\n",
       "    .dataframe tbody tr th {\n",
       "        vertical-align: top;\n",
       "    }\n",
       "</style>\n",
       "<table border=\"1\" class=\"dataframe\">\n",
       "  <thead>\n",
       "    <tr style=\"text-align: right;\">\n",
       "      <th></th>\n",
       "      <th>Congruent</th>\n",
       "      <th>Incongruent</th>\n",
       "    </tr>\n",
       "  </thead>\n",
       "  <tbody>\n",
       "    <tr>\n",
       "      <th>0</th>\n",
       "      <td>12.079</td>\n",
       "      <td>19.278</td>\n",
       "    </tr>\n",
       "    <tr>\n",
       "      <th>1</th>\n",
       "      <td>16.791</td>\n",
       "      <td>18.741</td>\n",
       "    </tr>\n",
       "    <tr>\n",
       "      <th>2</th>\n",
       "      <td>9.564</td>\n",
       "      <td>21.214</td>\n",
       "    </tr>\n",
       "    <tr>\n",
       "      <th>3</th>\n",
       "      <td>8.630</td>\n",
       "      <td>15.687</td>\n",
       "    </tr>\n",
       "    <tr>\n",
       "      <th>4</th>\n",
       "      <td>14.669</td>\n",
       "      <td>22.803</td>\n",
       "    </tr>\n",
       "  </tbody>\n",
       "</table>\n",
       "</div>"
      ],
      "text/plain": [
       "   Congruent  Incongruent\n",
       "0     12.079       19.278\n",
       "1     16.791       18.741\n",
       "2      9.564       21.214\n",
       "3      8.630       15.687\n",
       "4     14.669       22.803"
      ]
     },
     "execution_count": 186,
     "metadata": {},
     "output_type": "execute_result"
    }
   ],
   "source": [
    "# check data\n",
    "df_raw.head()"
   ]
  },
  {
   "cell_type": "code",
   "execution_count": 187,
   "metadata": {},
   "outputs": [
    {
     "name": "stdout",
     "output_type": "stream",
     "text": [
      "<class 'pandas.core.frame.DataFrame'>\n",
      "RangeIndex: 24 entries, 0 to 23\n",
      "Data columns (total 2 columns):\n",
      "Congruent      24 non-null float64\n",
      "Incongruent    24 non-null float64\n",
      "dtypes: float64(2)\n",
      "memory usage: 464.0 bytes\n"
     ]
    }
   ],
   "source": [
    "df_raw.info()"
   ]
  },
  {
   "cell_type": "code",
   "execution_count": 188,
   "metadata": {},
   "outputs": [
    {
     "data": {
      "text/plain": [
       "Congruent      24\n",
       "Incongruent    24\n",
       "dtype: int64"
      ]
     },
     "execution_count": 188,
     "metadata": {},
     "output_type": "execute_result"
    }
   ],
   "source": [
    "df_raw.nunique()"
   ]
  },
  {
   "cell_type": "code",
   "execution_count": 189,
   "metadata": {},
   "outputs": [
    {
     "data": {
      "text/plain": [
       "Congruent      0\n",
       "Incongruent    0\n",
       "dtype: int64"
      ]
     },
     "execution_count": 189,
     "metadata": {},
     "output_type": "execute_result"
    }
   ],
   "source": [
    "df_raw[df_raw.isnull() == True].count()"
   ]
  },
  {
   "cell_type": "code",
   "execution_count": 190,
   "metadata": {
    "collapsed": true
   },
   "outputs": [],
   "source": [
    "# descriptive statistics of congruent data\n",
    "# length, min, max\n",
    "len_congruent = len(df_raw['Congruent'])\n",
    "min_congruent = min(df_raw['Congruent'])\n",
    "max_congruent = max(df_raw['Congruent'])\n",
    "# measures of central tendency\n",
    "# mean (average of values), median (middle of sorted list)\n",
    "mean_congruent = np.mean(df_raw['Congruent'])\n",
    "median_congruent = stats.median(df_raw['Congruent'])\n",
    "# measures of variabilty\n",
    "# range\n",
    "range_congruent = max_congruent - min_congruent\n",
    "# percentiles\n",
    "first_percentile_congruent = np.percentile(df_raw['Congruent'], 25)\n",
    "second_percentile_congruent = np.percentile(df_raw['Congruent'], 50)\n",
    "third_percentile_congruent = np.percentile(df_raw['Congruent'], 75)\n",
    "# inter-quartile-range (IQR)\n",
    "IQR_congruent = third_percentile_congruent - first_percentile_congruent\n",
    "# variance and std (complete population, ddof = 0)\n",
    "variance_pop_congruent = np.var(df_raw['Congruent'], ddof=0)\n",
    "std_pop_congruent = np.std(df_raw['Congruent'], ddof=0)\n",
    "# output list of results\n",
    "congruent_stats = [len_congruent, min_congruent, max_congruent\n",
    "                   , mean_congruent, median_congruent, range_congruent\n",
    "                   , first_percentile_congruent, second_percentile_congruent\n",
    "                   , third_percentile_congruent, IQR_congruent\n",
    "                   , variance_pop_congruent, std_pop_congruent]"
   ]
  },
  {
   "cell_type": "code",
   "execution_count": 191,
   "metadata": {
    "collapsed": true
   },
   "outputs": [],
   "source": [
    "# descriptive statistics of incongruent data\n",
    "# length, min, max\n",
    "len_incongruent = len(df_raw['Incongruent'])\n",
    "min_incongruent = min(df_raw['Incongruent'])\n",
    "max_incongruent = max(df_raw['Incongruent'])\n",
    "# measures of central tendency\n",
    "# mean (average of values), median (middle of sorted list)\n",
    "mean_incongruent = np.mean(df_raw['Incongruent'])\n",
    "median_incongruent = stats.median(df_raw['Incongruent'])\n",
    "# measures of variabilty\n",
    "# range\n",
    "range_incongruent = max_incongruent - min_incongruent\n",
    "# percentiles\n",
    "first_percentile_incongruent = np.percentile(df_raw['Incongruent'], 25)\n",
    "second_percentile_incongruent = np.percentile(df_raw['Incongruent'], 50)\n",
    "third_percentile_incongruent = np.percentile(df_raw['Incongruent'], 75)\n",
    "# inter-quartile-range (IQR)\n",
    "IQR_incongruent = third_percentile_incongruent - first_percentile_incongruent\n",
    "# variance and std (complete population, ddof = 0)\n",
    "variance_pop_incongruent = np.var(df_raw['Incongruent'], ddof=0)\n",
    "std_pop_incongruent = np.std(df_raw['Incongruent'], ddof=0)\n",
    "incongruent_stats = [len_incongruent, min_incongruent, max_incongruent\n",
    "                   , mean_incongruent, median_incongruent, range_incongruent\n",
    "                   , first_percentile_incongruent, second_percentile_incongruent\n",
    "                   , third_percentile_incongruent, IQR_incongruent\n",
    "                   , variance_pop_incongruent, std_pop_incongruent]"
   ]
  },
  {
   "cell_type": "code",
   "execution_count": 192,
   "metadata": {},
   "outputs": [
    {
     "data": {
      "text/html": [
       "<div>\n",
       "<style>\n",
       "    .dataframe thead tr:only-child th {\n",
       "        text-align: right;\n",
       "    }\n",
       "\n",
       "    .dataframe thead th {\n",
       "        text-align: left;\n",
       "    }\n",
       "\n",
       "    .dataframe tbody tr th {\n",
       "        vertical-align: top;\n",
       "    }\n",
       "</style>\n",
       "<table border=\"1\" class=\"dataframe\">\n",
       "  <thead>\n",
       "    <tr style=\"text-align: right;\">\n",
       "      <th></th>\n",
       "      <th>Congruent</th>\n",
       "      <th>Incongruent</th>\n",
       "    </tr>\n",
       "  </thead>\n",
       "  <tbody>\n",
       "    <tr>\n",
       "      <th>length</th>\n",
       "      <td>24.000000</td>\n",
       "      <td>24.000000</td>\n",
       "    </tr>\n",
       "    <tr>\n",
       "      <th>min</th>\n",
       "      <td>8.630000</td>\n",
       "      <td>15.687000</td>\n",
       "    </tr>\n",
       "    <tr>\n",
       "      <th>max</th>\n",
       "      <td>22.328000</td>\n",
       "      <td>35.255000</td>\n",
       "    </tr>\n",
       "    <tr>\n",
       "      <th>mean</th>\n",
       "      <td>14.051125</td>\n",
       "      <td>22.015917</td>\n",
       "    </tr>\n",
       "    <tr>\n",
       "      <th>median</th>\n",
       "      <td>14.356500</td>\n",
       "      <td>21.017500</td>\n",
       "    </tr>\n",
       "    <tr>\n",
       "      <th>range</th>\n",
       "      <td>13.698000</td>\n",
       "      <td>19.568000</td>\n",
       "    </tr>\n",
       "    <tr>\n",
       "      <th>first_percentile</th>\n",
       "      <td>11.895250</td>\n",
       "      <td>18.716750</td>\n",
       "    </tr>\n",
       "    <tr>\n",
       "      <th>second_percentile</th>\n",
       "      <td>14.356500</td>\n",
       "      <td>21.017500</td>\n",
       "    </tr>\n",
       "    <tr>\n",
       "      <th>third_percentile</th>\n",
       "      <td>16.200750</td>\n",
       "      <td>24.051500</td>\n",
       "    </tr>\n",
       "    <tr>\n",
       "      <th>IQR</th>\n",
       "      <td>4.305500</td>\n",
       "      <td>5.334750</td>\n",
       "    </tr>\n",
       "    <tr>\n",
       "      <th>variance_pop</th>\n",
       "      <td>12.141153</td>\n",
       "      <td>22.052934</td>\n",
       "    </tr>\n",
       "    <tr>\n",
       "      <th>std_pop</th>\n",
       "      <td>3.484416</td>\n",
       "      <td>4.696055</td>\n",
       "    </tr>\n",
       "  </tbody>\n",
       "</table>\n",
       "</div>"
      ],
      "text/plain": [
       "                   Congruent  Incongruent\n",
       "length             24.000000    24.000000\n",
       "min                 8.630000    15.687000\n",
       "max                22.328000    35.255000\n",
       "mean               14.051125    22.015917\n",
       "median             14.356500    21.017500\n",
       "range              13.698000    19.568000\n",
       "first_percentile   11.895250    18.716750\n",
       "second_percentile  14.356500    21.017500\n",
       "third_percentile   16.200750    24.051500\n",
       "IQR                 4.305500     5.334750\n",
       "variance_pop       12.141153    22.052934\n",
       "std_pop             3.484416     4.696055"
      ]
     },
     "execution_count": 192,
     "metadata": {},
     "output_type": "execute_result"
    }
   ],
   "source": [
    "# descriptive statistics summary table\n",
    "columns = ['Congruent', 'Incongruent']\n",
    "descriptive_stats_dict = {columns[0]: congruent_stats, columns[1]: incongruent_stats}\n",
    "descriptive_stats_index = ['length', 'min', 'max', 'mean', 'median', 'range'\n",
    "                           , 'first_percentile', 'second_percentile', 'third_percentile'\n",
    "                           , 'IQR', 'variance_pop', 'std_pop']\n",
    "df_descriptive_stats = pd.DataFrame(descriptive_stats_dict, index=descriptive_stats_index)\n",
    "df_descriptive_stats"
   ]
  },
  {
   "cell_type": "markdown",
   "metadata": {},
   "source": [
    "(4) Provide one or two visualizations that show the distribution of the sample data. Write one or two sentences noting what you observe about the plot or plots."
   ]
  },
  {
   "cell_type": "code",
   "execution_count": 195,
   "metadata": {
    "collapsed": true
   },
   "outputs": [],
   "source": [
    "# Simulate normal distribution from mean and standard deviations calculated from data then compare to real data\n",
    "mu_congruent, sigma_congruent = mean_congruent, std_pop_congruent\n",
    "mu_incongruent, sigma_incongruent = mean_incongruent, std_pop_incongruent\n",
    "simulated_congruent = np.random.normal(mu_congruent, sigma_congruent, 1000)\n",
    "simulated_incongruent = np.random.normal(mu_incongruent, sigma_incongruent, 1000)"
   ]
  },
  {
   "cell_type": "code",
   "execution_count": 215,
   "metadata": {},
   "outputs": [
    {
     "data": {
      "image/png": "[encoded data removed]",
      "text/plain": [
       "<matplotlib.figure.Figure at 0x11b2a3b00>"
      ]
     },
     "metadata": {},
     "output_type": "display_data"
    }
   ],
   "source": [
    "# using matplotlib\n",
    "data = pd.DataFrame(df_raw, columns=columns)\n",
    "for col in columns:\n",
    "    plt.hist(data[col], density=True, alpha=0.5)\n",
    "plt.title('Histogram of Congruent and Incongruent response times\\n(n = 24)')\n",
    "plt.xlabel('Response times (secs)')\n",
    "plt.ylabel('Count of responses')\n",
    "count, bins, ignored = plt.hist(simulated_congruent, 30, normed=True, alpha=0.2)\n",
    "plt.plot(bins, 1/(sigma_congruent * np.sqrt(2 * np.pi)) \n",
    "         * np.exp( - (bins - mu_congruent)**2 / (2 * sigma_congruent**2) )\n",
    "         ,linewidth=2, color='b')\n",
    "\n",
    "count, bins, ignored = plt.hist(simulated_incongruent, 30, normed=True, alpha=0.2)\n",
    "plt.plot(bins, 1/(sigma_incongruent * np.sqrt(2 * np.pi)) \n",
    "         * np.exp( - (bins - mu_incongruent)**2 / (2 * sigma_incongruent**2) )\n",
    "         ,linewidth=2, color='r')\n",
    "\n",
    "normalDistributionCongruent = np.random.normal(loc=mean_congruent, scale=std_pop_congruent);"
   ]
  },
  {
   "cell_type": "code",
   "execution_count": 194,
   "metadata": {},
   "outputs": [
    {
     "data": {
      "image/png": "[encoded data removed]",
      "text/plain": [
       "<matplotlib.figure.Figure at 0x11ac6ecf8>"
      ]
     },
     "metadata": {},
     "output_type": "display_data"
    }
   ],
   "source": [
    "# using seaborn\n",
    "sns.distplot(data['Congruent'])\n",
    "sns.distplot(data['Incongruent'])\n",
    "plt.title('Kernel density estimation and Histogram of \\nCongruent and Incongruent response times\\n(n=24)')\n",
    "plt.xlabel('Response times (secs)')\n",
    "plt.ylabel('Percentage of responses');"
   ]
  },
  {
   "cell_type": "markdown",
   "metadata": {},
   "source": [
    "#### Comments about visualizations\n",
    "\n",
    "First it should be noted that **no conclusions** are drawn from the visualizations, conclusions **will only be drawn from the statistical tests shown below.**\n",
    "\n",
    "It can however be noted that distributions of response times for both `Congruent` and `Incongruent` data show a normal or close-to normal distribution (the `Incongruent` dataset shows a possible bimodal distribution in the KDE plot but this is only based on 2 user responses)\n",
    "\n",
    "Interestingly, the `Incongruent` data are shifted to the right on the x-axis (Response time (secs)) relative to the `Congruent` data, this is also seen of course in the 'descriptive statistics summary table' (`df_descriptive_stats`) by comparing the `mean` or `median` values for both columns for example."
   ]
  },
  {
   "cell_type": "markdown",
   "metadata": {},
   "source": [
    "(5)  Now, perform the statistical test and report your results. What is your confidence level or Type I error associated with your test? What is your conclusion regarding the hypotheses you set up? Did the results match up with your expectations? **Hint:**  Think about what is being measured on each individual, and what statistic best captures how an individual reacts in each environment."
   ]
  },
  {
   "cell_type": "code",
   "execution_count": 164,
   "metadata": {
    "collapsed": true
   },
   "outputs": [],
   "source": [
    "# Perform the statistical test here"
   ]
  },
  {
   "cell_type": "markdown",
   "metadata": {},
   "source": [
    "--write answer here--"
   ]
  },
  {
   "cell_type": "markdown",
   "metadata": {},
   "source": [
    "(6) Optional: What do you think is responsible for the effects observed? Can you think of an alternative or similar task that would result in a similar effect? Some research about the problem will be helpful for thinking about these two questions!"
   ]
  },
  {
   "cell_type": "markdown",
   "metadata": {},
   "source": [
    "--write answer here--"
   ]
  },
  {
   "cell_type": "markdown",
   "metadata": {},
   "source": [
    "### References\n",
    "\n",
    "<ul>\n",
    "<li>[pandas](http://pandas.pydata.org/pandas-docs/stable/)</li>\n",
    "<li>[NumPy](http://www.numpy.org/)</li>\n",
    "<li>[SciPy](https://scipy.org/)</li>\n",
    "<li>[anaconda](https://www.anaconda.com/)</li>\n",
    "<li>[jupyter notebooks](http://jupyter.org/)</li>\n",
    "<li>[seaborn](https://seaborn.pydata.org/)</li>\n",
    "<li>[Visualization with Seaborn](http://bit.ly/2rRgzmH)</li>\n",
    "<li>[stackoverflow](https://stackoverflow.com/)</li>\n",
    "<li hidden>[]()</li>\n",
    "</ul>"
   ]
  },
  {
   "cell_type": "code",
   "execution_count": null,
   "metadata": {
    "collapsed": true
   },
   "outputs": [],
   "source": []
  }
 ],
 "metadata": {
  "kernelspec": {
   "display_name": "Python [default]",
   "language": "python",
   "name": "python3"
  },
  "language_info": {
   "codemirror_mode": {
    "name": "ipython",
    "version": 3
   },
   "file_extension": ".py",
   "mimetype": "text/x-python",
   "name": "python",
   "nbconvert_exporter": "python",
   "pygments_lexer": "ipython3",
   "version": "3.6.4"
  }
 },
 "nbformat": 4,
 "nbformat_minor": 2
}
