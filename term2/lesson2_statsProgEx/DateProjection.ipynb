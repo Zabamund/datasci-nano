{
 "cells": [
  {
   "cell_type": "code",
   "execution_count": 68,
   "metadata": {
    "collapsed": true
   },
   "outputs": [],
   "source": [
    "# library imports\n",
    "import datetime as dtModule #module\n",
    "from datetime import datetime as dtClass #class\n",
    "import re #module"
   ]
  },
  {
   "cell_type": "code",
   "execution_count": 93,
   "metadata": {},
   "outputs": [
    {
     "name": "stdout",
     "output_type": "stream",
     "text": [
      "All tests completed.\n"
     ]
    }
   ],
   "source": [
    "def which_date(start_date,time):\n",
    "    \"\"\"\n",
    "    This function takes as input a string depicting a date in YYYY/mm/dd\n",
    "    format and a string stating a time period in the form of \"X day(s)\" or\n",
    "    \"Y week(s)\". Output should be a string in form YYYY/mm/dd with the date\n",
    "    that is X days or Y weeks after the initial date.\n",
    "    \"\"\"\n",
    "    \n",
    "    # Replace this with your code!\n",
    "    startDateFormatted = dtClass.strptime(start_date, '%Y/%m/%d')\n",
    "    #print('startDateFormatted is: ' + str(startDateFormatted))\n",
    "    \n",
    "    foundValue = re.findall(r'\\d+', time)\n",
    "    timeValue = int(foundValue[0])\n",
    "    #print('type of timeValue is: ' + str(type(timeValue)) + ' and timeValue is = ' + str(timeValue))\n",
    "    \n",
    "    if 'day' in time:\n",
    "        timeHolder = startDateFormatted + dtModule.timedelta(days=timeValue)\n",
    "        end_date = timeHolder.strftime('%Y/%m/%d')\n",
    "        #print(end_date)\n",
    "    else:\n",
    "        timeHolder = startDateFormatted + dtModule.timedelta(weeks=timeValue)\n",
    "        end_date = timeHolder.strftime('%Y/%m/%d')\n",
    "        #print(end_date)\n",
    "    \n",
    "    return end_date\n",
    "    \n",
    "def test():\n",
    "    \"\"\"\n",
    "    Here are a few tests to check if your code is working correctly! This\n",
    "    function will be run when the Test Run button is selected. Additional\n",
    "    tests that are not part of this function will also be run when the Submit\n",
    "    Answer button is selected.\n",
    "    \"\"\"\n",
    "    assert which_date('2016/02/10','35 days') == '2016/03/16'\n",
    "    assert which_date('2016/12/21','3 weeks') == '2017/01/11'\n",
    "    assert which_date('2015/01/17','1 week') == '2015/01/24'\n",
    "    print(\"All tests completed.\")\n",
    "\n",
    "\n",
    "if __name__ == \"__main__\":\n",
    "    test()"
   ]
  },
  {
   "cell_type": "code",
   "execution_count": null,
   "metadata": {
    "collapsed": true
   },
   "outputs": [],
   "source": []
  }
 ],
 "metadata": {
  "kernelspec": {
   "display_name": "Python [default]",
   "language": "python",
   "name": "python3"
  },
  "language_info": {
   "codemirror_mode": {
    "name": "ipython",
    "version": 3
   },
   "file_extension": ".py",
   "mimetype": "text/x-python",
   "name": "python",
   "nbconvert_exporter": "python",
   "pygments_lexer": "ipython3",
   "version": "3.6.4"
  }
 },
 "nbformat": 4,
 "nbformat_minor": 2
}
