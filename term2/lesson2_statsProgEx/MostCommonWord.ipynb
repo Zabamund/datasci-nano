{
 "cells": [
  {
   "cell_type": "code",
   "execution_count": 92,
   "metadata": {},
   "outputs": [
    {
     "name": "stdout",
     "output_type": "stream",
     "text": [
      "countsList: [2, 2, 3, 3, 3, 1]\n",
      "maxCount: 3\n",
      "sortedArray: ['bat', 'bat', 'cat', 'cat', 'cat', 'mat']\n",
      "indexOfMax: 2\n",
      "output: cat\n",
      "countsList: [1, 1, 1, 1, 1, 1, 2, 2, 1, 1, 1]\n",
      "maxCount: 2\n",
      "sortedArray: ['a', 'betty', 'bit', 'bitter', 'bought', 'but', 'butter', 'butter', 'of', 'the', 'was']\n",
      "indexOfMax: 6\n",
      "output: butter\n"
     ]
    }
   ],
   "source": [
    "\"\"\"Quiz: Most Frequent Word\"\"\"\n",
    "\n",
    "def most_frequent(s):\n",
    "    \"\"\"Return the most frequently occuring word in s.\"\"\"\n",
    "    \n",
    "    # HINT: Use the built-in split() function to transform the string s into an\n",
    "    #       array\n",
    "    splitArray = s.split()\n",
    "    \n",
    "    # HINT: Sort the new array by using the built-in sorted() function or\n",
    "    #       .sort() list method\n",
    "    sortedArray = sorted(splitArray)\n",
    "    \n",
    "    # HINT: Iterate through the array and count each occurance of every word\n",
    "    #       using the .count() list method\n",
    "    countsList = []\n",
    "    for i in range(len(sortedArray)):\n",
    "        counts = sortedArray.count(sortedArray[i])\n",
    "        countsList.append(counts)\n",
    "        \n",
    "    print(\"countsList: \" + str(countsList))\n",
    "    \n",
    "    # HINT: Find the number of times the most common word appears using max()\n",
    "    maxCount = (max(countsList))\n",
    "    print(\"maxCount: \" + str(maxCount))\n",
    "    \n",
    "    # HINT: Locate the index of the most frequently seen word\n",
    "    print(\"sortedArray: \" + str(sortedArray))\n",
    "    indexOfMax = countsList.index(maxCount)\n",
    "    print(\"indexOfMax: \" + str(indexOfMax))\n",
    "    \n",
    "    # HINT: Return the most frequent word. Remember that if there is a tie,\n",
    "    #       return the first (tied) word in alphabetical order.\n",
    "    result = \"output: \" + str(sortedArray[indexOfMax])\n",
    "    return result\n",
    "\n",
    "\n",
    "def test_run():\n",
    "    \"\"\"Test most_frequent() with some inputs.\"\"\"\n",
    "    print(most_frequent(\"cat bat mat cat bat cat\")) # output: 'cat'\n",
    "    print(most_frequent(\"betty bought a bit of butter but the butter was bitter\")) # output: 'butter'\n",
    "\n",
    "\n",
    "if __name__ == '__main__':\n",
    "    test_run()\n"
   ]
  },
  {
   "cell_type": "code",
   "execution_count": null,
   "metadata": {
    "collapsed": true
   },
   "outputs": [],
   "source": []
  },
  {
   "cell_type": "code",
   "execution_count": null,
   "metadata": {
    "collapsed": true
   },
   "outputs": [],
   "source": []
  }
 ],
 "metadata": {
  "kernelspec": {
   "display_name": "Python [default]",
   "language": "python",
   "name": "python3"
  },
  "language_info": {
   "codemirror_mode": {
    "name": "ipython",
    "version": 3
   },
   "file_extension": ".py",
   "mimetype": "text/x-python",
   "name": "python",
   "nbconvert_exporter": "python",
   "pygments_lexer": "ipython3",
   "version": "3.6.4"
  }
 },
 "nbformat": 4,
 "nbformat_minor": 2
}
