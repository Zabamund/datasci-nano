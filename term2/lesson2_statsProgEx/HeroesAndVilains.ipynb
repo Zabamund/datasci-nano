{
 "cells": [
  {
   "cell_type": "code",
   "execution_count": 1,
   "metadata": {
    "collapsed": true
   },
   "outputs": [],
   "source": [
    "# library imports\n",
    "import pandas as pd\n",
    "import numpy as np\n",
    "import matplotlib.pyplot as plt\n",
    "import math\n",
    "import statistics\n",
    "import scipy.stats as sci\n",
    "%matplotlib inline"
   ]
  },
  {
   "cell_type": "code",
   "execution_count": 2,
   "metadata": {},
   "outputs": [
    {
     "data": {
      "text/html": [
       "<div>\n",
       "<style>\n",
       "    .dataframe thead tr:only-child th {\n",
       "        text-align: right;\n",
       "    }\n",
       "\n",
       "    .dataframe thead th {\n",
       "        text-align: left;\n",
       "    }\n",
       "\n",
       "    .dataframe tbody tr th {\n",
       "        vertical-align: top;\n",
       "    }\n",
       "</style>\n",
       "<table border=\"1\" class=\"dataframe\">\n",
       "  <thead>\n",
       "    <tr style=\"text-align: right;\">\n",
       "      <th></th>\n",
       "      <th>Name</th>\n",
       "      <th>Alignment</th>\n",
       "      <th>Intelligence</th>\n",
       "      <th>Strength</th>\n",
       "      <th>Unnamed: 4</th>\n",
       "      <th>Hero</th>\n",
       "      <th>Rival</th>\n",
       "    </tr>\n",
       "  </thead>\n",
       "  <tbody>\n",
       "    <tr>\n",
       "      <th>0</th>\n",
       "      <td>Iron Man</td>\n",
       "      <td>good</td>\n",
       "      <td>100.0</td>\n",
       "      <td>85.0</td>\n",
       "      <td>NaN</td>\n",
       "      <td>Iron Man</td>\n",
       "      <td>Ultron</td>\n",
       "    </tr>\n",
       "  </tbody>\n",
       "</table>\n",
       "</div>"
      ],
      "text/plain": [
       "       Name Alignment  Intelligence  Strength  Unnamed: 4      Hero   Rival\n",
       "0  Iron Man      good         100.0      85.0         NaN  Iron Man  Ultron"
      ]
     },
     "execution_count": 2,
     "metadata": {},
     "output_type": "execute_result"
    }
   ],
   "source": [
    "# file import\n",
    "df_raw = pd.read_excel('./superherodata-matched.xlsx')\n",
    "df_raw.head(1)"
   ]
  },
  {
   "cell_type": "code",
   "execution_count": 3,
   "metadata": {},
   "outputs": [
    {
     "data": {
      "text/html": [
       "<div>\n",
       "<style>\n",
       "    .dataframe thead tr:only-child th {\n",
       "        text-align: right;\n",
       "    }\n",
       "\n",
       "    .dataframe thead th {\n",
       "        text-align: left;\n",
       "    }\n",
       "\n",
       "    .dataframe tbody tr th {\n",
       "        vertical-align: top;\n",
       "    }\n",
       "</style>\n",
       "<table border=\"1\" class=\"dataframe\">\n",
       "  <thead>\n",
       "    <tr style=\"text-align: right;\">\n",
       "      <th></th>\n",
       "      <th>Name</th>\n",
       "      <th>Alignment</th>\n",
       "      <th>Intelligence</th>\n",
       "      <th>Strength</th>\n",
       "      <th>Unnamed: 4</th>\n",
       "      <th>Hero</th>\n",
       "      <th>Rival</th>\n",
       "    </tr>\n",
       "  </thead>\n",
       "  <tbody>\n",
       "    <tr>\n",
       "      <th>0</th>\n",
       "      <td>Iron Man</td>\n",
       "      <td>good</td>\n",
       "      <td>100.000000</td>\n",
       "      <td>85.000000</td>\n",
       "      <td>NaN</td>\n",
       "      <td>Iron Man</td>\n",
       "      <td>Ultron</td>\n",
       "    </tr>\n",
       "    <tr>\n",
       "      <th>1</th>\n",
       "      <td>Captain America</td>\n",
       "      <td>good</td>\n",
       "      <td>63.000000</td>\n",
       "      <td>65.000000</td>\n",
       "      <td>NaN</td>\n",
       "      <td>Captain America</td>\n",
       "      <td>Red Skull</td>\n",
       "    </tr>\n",
       "    <tr>\n",
       "      <th>2</th>\n",
       "      <td>Hulk</td>\n",
       "      <td>good</td>\n",
       "      <td>88.000000</td>\n",
       "      <td>100.000000</td>\n",
       "      <td>NaN</td>\n",
       "      <td>Hulk</td>\n",
       "      <td>Abomination</td>\n",
       "    </tr>\n",
       "    <tr>\n",
       "      <th>3</th>\n",
       "      <td>Hawkeye</td>\n",
       "      <td>good</td>\n",
       "      <td>62.000000</td>\n",
       "      <td>12.000000</td>\n",
       "      <td>NaN</td>\n",
       "      <td>Hawkeye</td>\n",
       "      <td>Bullseye</td>\n",
       "    </tr>\n",
       "    <tr>\n",
       "      <th>4</th>\n",
       "      <td>Thor</td>\n",
       "      <td>good</td>\n",
       "      <td>69.000000</td>\n",
       "      <td>100.000000</td>\n",
       "      <td>NaN</td>\n",
       "      <td>Thor</td>\n",
       "      <td>Loki</td>\n",
       "    </tr>\n",
       "    <tr>\n",
       "      <th>5</th>\n",
       "      <td>Spider-Man</td>\n",
       "      <td>good</td>\n",
       "      <td>88.000000</td>\n",
       "      <td>55.000000</td>\n",
       "      <td>NaN</td>\n",
       "      <td>Spider-Man</td>\n",
       "      <td>Green Goblin</td>\n",
       "    </tr>\n",
       "    <tr>\n",
       "      <th>6</th>\n",
       "      <td>Average</td>\n",
       "      <td>NaN</td>\n",
       "      <td>78.333333</td>\n",
       "      <td>69.500000</td>\n",
       "      <td>NaN</td>\n",
       "      <td>NaN</td>\n",
       "      <td>NaN</td>\n",
       "    </tr>\n",
       "    <tr>\n",
       "      <th>7</th>\n",
       "      <td>NaN</td>\n",
       "      <td>NaN</td>\n",
       "      <td>NaN</td>\n",
       "      <td>NaN</td>\n",
       "      <td>NaN</td>\n",
       "      <td>NaN</td>\n",
       "      <td>NaN</td>\n",
       "    </tr>\n",
       "    <tr>\n",
       "      <th>8</th>\n",
       "      <td>Ultron</td>\n",
       "      <td>bad</td>\n",
       "      <td>95.000000</td>\n",
       "      <td>83.000000</td>\n",
       "      <td>NaN</td>\n",
       "      <td>NaN</td>\n",
       "      <td>NaN</td>\n",
       "    </tr>\n",
       "    <tr>\n",
       "      <th>9</th>\n",
       "      <td>Red Skull</td>\n",
       "      <td>bad</td>\n",
       "      <td>90.000000</td>\n",
       "      <td>30.000000</td>\n",
       "      <td>NaN</td>\n",
       "      <td>NaN</td>\n",
       "      <td>NaN</td>\n",
       "    </tr>\n",
       "    <tr>\n",
       "      <th>10</th>\n",
       "      <td>Abomination</td>\n",
       "      <td>bad</td>\n",
       "      <td>85.000000</td>\n",
       "      <td>80.000000</td>\n",
       "      <td>NaN</td>\n",
       "      <td>NaN</td>\n",
       "      <td>NaN</td>\n",
       "    </tr>\n",
       "    <tr>\n",
       "      <th>11</th>\n",
       "      <td>Bullseye</td>\n",
       "      <td>bad</td>\n",
       "      <td>75.000000</td>\n",
       "      <td>11.000000</td>\n",
       "      <td>NaN</td>\n",
       "      <td>NaN</td>\n",
       "      <td>NaN</td>\n",
       "    </tr>\n",
       "    <tr>\n",
       "      <th>12</th>\n",
       "      <td>Loki</td>\n",
       "      <td>bad</td>\n",
       "      <td>87.000000</td>\n",
       "      <td>57.000000</td>\n",
       "      <td>NaN</td>\n",
       "      <td>NaN</td>\n",
       "      <td>NaN</td>\n",
       "    </tr>\n",
       "    <tr>\n",
       "      <th>13</th>\n",
       "      <td>Green Goblin</td>\n",
       "      <td>bad</td>\n",
       "      <td>85.000000</td>\n",
       "      <td>35.000000</td>\n",
       "      <td>NaN</td>\n",
       "      <td>NaN</td>\n",
       "      <td>NaN</td>\n",
       "    </tr>\n",
       "    <tr>\n",
       "      <th>14</th>\n",
       "      <td>Average</td>\n",
       "      <td>NaN</td>\n",
       "      <td>86.166667</td>\n",
       "      <td>49.333333</td>\n",
       "      <td>NaN</td>\n",
       "      <td>NaN</td>\n",
       "      <td>NaN</td>\n",
       "    </tr>\n",
       "  </tbody>\n",
       "</table>\n",
       "</div>"
      ],
      "text/plain": [
       "               Name Alignment  Intelligence    Strength  Unnamed: 4  \\\n",
       "0          Iron Man      good    100.000000   85.000000         NaN   \n",
       "1   Captain America      good     63.000000   65.000000         NaN   \n",
       "2              Hulk      good     88.000000  100.000000         NaN   \n",
       "3           Hawkeye      good     62.000000   12.000000         NaN   \n",
       "4              Thor      good     69.000000  100.000000         NaN   \n",
       "5        Spider-Man      good     88.000000   55.000000         NaN   \n",
       "6           Average       NaN     78.333333   69.500000         NaN   \n",
       "7               NaN       NaN           NaN         NaN         NaN   \n",
       "8            Ultron       bad     95.000000   83.000000         NaN   \n",
       "9         Red Skull       bad     90.000000   30.000000         NaN   \n",
       "10      Abomination       bad     85.000000   80.000000         NaN   \n",
       "11         Bullseye       bad     75.000000   11.000000         NaN   \n",
       "12             Loki       bad     87.000000   57.000000         NaN   \n",
       "13     Green Goblin       bad     85.000000   35.000000         NaN   \n",
       "14          Average       NaN     86.166667   49.333333         NaN   \n",
       "\n",
       "               Hero         Rival  \n",
       "0          Iron Man        Ultron  \n",
       "1   Captain America     Red Skull  \n",
       "2              Hulk   Abomination  \n",
       "3           Hawkeye      Bullseye  \n",
       "4              Thor          Loki  \n",
       "5        Spider-Man  Green Goblin  \n",
       "6               NaN           NaN  \n",
       "7               NaN           NaN  \n",
       "8               NaN           NaN  \n",
       "9               NaN           NaN  \n",
       "10              NaN           NaN  \n",
       "11              NaN           NaN  \n",
       "12              NaN           NaN  \n",
       "13              NaN           NaN  \n",
       "14              NaN           NaN  "
      ]
     },
     "execution_count": 3,
     "metadata": {},
     "output_type": "execute_result"
    }
   ],
   "source": [
    "df_raw"
   ]
  },
  {
   "cell_type": "code",
   "execution_count": 9,
   "metadata": {},
   "outputs": [
    {
     "data": {
      "text/plain": [
       "0    100.0\n",
       "1     63.0\n",
       "2     88.0\n",
       "3     62.0\n",
       "4     69.0\n",
       "5     88.0\n",
       "Name: Intelligence, dtype: float64"
      ]
     },
     "execution_count": 9,
     "metadata": {},
     "output_type": "execute_result"
    }
   ],
   "source": [
    "# intelligence arrays\n",
    "goodInt = df_raw['Intelligence'].iloc[0:6]\n",
    "goodInt"
   ]
  },
  {
   "cell_type": "code",
   "execution_count": 10,
   "metadata": {},
   "outputs": [
    {
     "data": {
      "text/plain": [
       "8     95.0\n",
       "9     90.0\n",
       "10    85.0\n",
       "11    75.0\n",
       "12    87.0\n",
       "13    85.0\n",
       "Name: Intelligence, dtype: float64"
      ]
     },
     "execution_count": 10,
     "metadata": {},
     "output_type": "execute_result"
    }
   ],
   "source": [
    "# intelligence arrays\n",
    "badInt = df_raw['Intelligence'].iloc[8:14]\n",
    "badInt"
   ]
  },
  {
   "cell_type": "code",
   "execution_count": 16,
   "metadata": {},
   "outputs": [
    {
     "data": {
      "text/plain": [
       "Ttest_indResult(statistic=-1.1205095545912165, pvalue=0.28868503197303447)"
      ]
     },
     "execution_count": 16,
     "metadata": {},
     "output_type": "execute_result"
    }
   ],
   "source": [
    "# T-test for the means of TWO INDEPENDENT samples of scores\n",
    "intTTest = sci.ttest_ind(goodInt, badInt, axis=0, equal_var=True)\n",
    "intTTest"
   ]
  },
  {
   "cell_type": "code",
   "execution_count": 17,
   "metadata": {},
   "outputs": [
    {
     "data": {
      "text/plain": [
       "0     85.0\n",
       "1     65.0\n",
       "2    100.0\n",
       "3     12.0\n",
       "4    100.0\n",
       "5     55.0\n",
       "Name: Strength, dtype: float64"
      ]
     },
     "execution_count": 17,
     "metadata": {},
     "output_type": "execute_result"
    }
   ],
   "source": [
    "# strength arrays\n",
    "goodStr = df_raw['Strength'].iloc[0:6]\n",
    "goodStr"
   ]
  },
  {
   "cell_type": "code",
   "execution_count": 18,
   "metadata": {},
   "outputs": [
    {
     "data": {
      "text/plain": [
       "8     83.0\n",
       "9     30.0\n",
       "10    80.0\n",
       "11    11.0\n",
       "12    57.0\n",
       "13    35.0\n",
       "Name: Strength, dtype: float64"
      ]
     },
     "execution_count": 18,
     "metadata": {},
     "output_type": "execute_result"
    }
   ],
   "source": [
    "# strength arrays\n",
    "badStr = df_raw['Strength'].iloc[8:14]\n",
    "badStr"
   ]
  },
  {
   "cell_type": "code",
   "execution_count": 23,
   "metadata": {},
   "outputs": [
    {
     "data": {
      "text/plain": [
       "Ttest_indResult(statistic=1.1147174588142275, pvalue=0.29104440880175197)"
      ]
     },
     "execution_count": 23,
     "metadata": {},
     "output_type": "execute_result"
    }
   ],
   "source": [
    "# T-test for the means of TWO INDEPENDENT samples of scores.\n",
    "strTTest = sci.ttest_ind(goodStr, badStr, axis=0, equal_var=True)\n",
    "strTTest"
   ]
  },
  {
   "cell_type": "code",
   "execution_count": 24,
   "metadata": {},
   "outputs": [
    {
     "data": {
      "text/plain": [
       "Ttest_relResult(statistic=-1.4326871448205387, pvalue=0.2113828440847432)"
      ]
     },
     "execution_count": 24,
     "metadata": {},
     "output_type": "execute_result"
    }
   ],
   "source": [
    "# T-test on TWO RELATED samples of scores, a and b\n",
    "intRelTTest = sci.ttest_rel(goodInt, badInt)\n",
    "intRelTTest"
   ]
  },
  {
   "cell_type": "code",
   "execution_count": 25,
   "metadata": {},
   "outputs": [
    {
     "data": {
      "text/plain": [
       "Ttest_relResult(statistic=2.911987470743906, pvalue=0.033322599465829272)"
      ]
     },
     "execution_count": 25,
     "metadata": {},
     "output_type": "execute_result"
    }
   ],
   "source": [
    "# T-test on TWO RELATED samples of scores, a and b\n",
    "strRelTTest = sci.ttest_rel(goodStr, badStr)\n",
    "strRelTTest"
   ]
  },
  {
   "cell_type": "code",
   "execution_count": null,
   "metadata": {
    "collapsed": true
   },
   "outputs": [],
   "source": []
  }
 ],
 "metadata": {
  "kernelspec": {
   "display_name": "Python [default]",
   "language": "python",
   "name": "python3"
  },
  "language_info": {
   "codemirror_mode": {
    "name": "ipython",
    "version": 3
   },
   "file_extension": ".py",
   "mimetype": "text/x-python",
   "name": "python",
   "nbconvert_exporter": "python",
   "pygments_lexer": "ipython3",
   "version": "3.6.4"
  }
 },
 "nbformat": 4,
 "nbformat_minor": 2
}
