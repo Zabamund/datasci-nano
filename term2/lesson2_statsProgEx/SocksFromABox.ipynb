{
 "cells": [
  {
   "cell_type": "markdown",
   "metadata": {},
   "source": [
    "# Socks from a Box\n",
    "Let's say we have a box filled with socks: three pairs each of white, gray, and black socks (i.e. six socks of each of the three colors, for eighteen socks in total). In each of the questions below, we draw socks randomly from the box without replacement. Note that a pair of matching socks is simply two of the same color: each sock will fit a foot of either handedness – uh, footedness. (Socks do not have chirality, for those into mathematical terms.)\n",
    "\n",
    "Input your answers as fractions or as decimals with at least four digits of precision."
   ]
  },
  {
   "cell_type": "code",
   "execution_count": 33,
   "metadata": {
    "collapsed": true
   },
   "outputs": [],
   "source": [
    "# library imports\n",
    "#import pandas as pd\n",
    "#from math import factorial as fact"
   ]
  },
  {
   "cell_type": "markdown",
   "metadata": {},
   "source": [
    "### Question 1\n",
    "Let's say we draw two socks from the box. What is the probability that we draw a matching pair?"
   ]
  },
  {
   "cell_type": "code",
   "execution_count": 1,
   "metadata": {
    "collapsed": true
   },
   "outputs": [],
   "source": [
    "# statement of problem:\n",
    "# 3 colors (white = w; grey = g; black = b)\n",
    "# 3x2 socks of each color\n",
    "# 3x2x3 = 18 socks total"
   ]
  },
  {
   "cell_type": "code",
   "execution_count": 17,
   "metadata": {},
   "outputs": [
    {
     "data": {
      "text/plain": [
       "0.3333333333333333"
      ]
     },
     "execution_count": 17,
     "metadata": {},
     "output_type": "execute_result"
    }
   ],
   "source": [
    "# probability of 1 first white sock = pw1\n",
    "pw1 = 6/18 # there are 6 white socks out of 18 in total\n",
    "pw1"
   ]
  },
  {
   "cell_type": "code",
   "execution_count": 18,
   "metadata": {},
   "outputs": [
    {
     "data": {
      "text/plain": [
       "0.29411764705882354"
      ]
     },
     "execution_count": 18,
     "metadata": {},
     "output_type": "execute_result"
    }
   ],
   "source": [
    "# no replacement\n",
    "# probability of 1 second white sock = pw2\n",
    "pw2 = (6-1)/(18-1) # after the first draw, there are now 5 white socks out of a total of 17\n",
    "# pw2 = 5/17\n",
    "pw2"
   ]
  },
  {
   "cell_type": "code",
   "execution_count": 19,
   "metadata": {},
   "outputs": [
    {
     "data": {
      "text/plain": [
       "0.09803921568627451"
      ]
     },
     "execution_count": 19,
     "metadata": {},
     "output_type": "execute_result"
    }
   ],
   "source": [
    "# probability (P2W) of 1w AND 1w = pw1 * pw2\n",
    "# pw1 = 6/18 = 1/3\n",
    "# pw2 = 5/17\n",
    "# P2W = 1/3 * 5/17\n",
    "P2W = pw1 * pw2\n",
    "P2W"
   ]
  },
  {
   "cell_type": "code",
   "execution_count": 20,
   "metadata": {},
   "outputs": [
    {
     "name": "stdout",
     "output_type": "stream",
     "text": [
      "The probability of drawing a matching pair is: 0.29411764705882354\n"
     ]
    }
   ],
   "source": [
    "# probability (P2Socks) of 2w OR 2b OR 2g = P2W + P2B + P2G = 3 * P2W\n",
    "P2Socks = 3 * P2W\n",
    "print('The probability of drawing a matching pair is: '+ str(P2Socks))"
   ]
  },
  {
   "cell_type": "markdown",
   "metadata": {},
   "source": [
    "### Question 2\n",
    "What if we draw three socks from the box instead. What is the probability that we draw a matching pair? (Having all three socks be the same color also counts as having a matching pair.)"
   ]
  },
  {
   "cell_type": "code",
   "execution_count": 34,
   "metadata": {
    "collapsed": true
   },
   "outputs": [],
   "source": [
    "# because colors can be permutated, we can state that if we draw three socks, we can draw (where 'c' is color):\n",
    "# favourableArray1 = [[c1, c1, c1],[c1, c1, c2],[c1, c1, c3]]\n",
    "# favourableArray2 = [[c2, c1, c1],[c1,c2,c1]]\n",
    "# favourableArray3 = [[c3, c1, c1],[c1,c3,c1]]\n",
    "# in order to get two or more socks of the same color\n",
    "# As there are three colors we can have 3 * favourableArray\n",
    "# There are a total of 3*3*3 totals possible combinations = 27, of which 21 are favourable and 6 are not"
   ]
  },
  {
   "cell_type": "code",
   "execution_count": 36,
   "metadata": {},
   "outputs": [
    {
     "data": {
      "text/plain": [
       "0.044117647058823525"
      ]
     },
     "execution_count": 36,
     "metadata": {},
     "output_type": "execute_result"
    }
   ],
   "source": [
    "# prob of c1c2c3 in this order\n",
    "Pc1c2c3 = 6/18 * 6/17 * 6/16\n",
    "Pc1c2c3"
   ]
  },
  {
   "cell_type": "code",
   "execution_count": 37,
   "metadata": {},
   "outputs": [
    {
     "data": {
      "text/plain": [
       "0.2647058823529411"
      ]
     },
     "execution_count": 37,
     "metadata": {},
     "output_type": "execute_result"
    }
   ],
   "source": [
    "# Pc1c2c3 in any order (6 cases)\n",
    "PanyOrder = 6 * Pc1c2c3\n",
    "PanyOrder"
   ]
  },
  {
   "cell_type": "code",
   "execution_count": 38,
   "metadata": {},
   "outputs": [
    {
     "data": {
      "text/plain": [
       "0.7352941176470589"
      ]
     },
     "execution_count": 38,
     "metadata": {},
     "output_type": "execute_result"
    }
   ],
   "source": [
    "# probability of a pair\n",
    "PPair = 1 - PanyOrder\n",
    "PPair"
   ]
  },
  {
   "cell_type": "code",
   "execution_count": null,
   "metadata": {
    "collapsed": true
   },
   "outputs": [],
   "source": []
  }
 ],
 "metadata": {
  "kernelspec": {
   "display_name": "Python [default]",
   "language": "python",
   "name": "python3"
  },
  "language_info": {
   "codemirror_mode": {
    "name": "ipython",
    "version": 3
   },
   "file_extension": ".py",
   "mimetype": "text/x-python",
   "name": "python",
   "nbconvert_exporter": "python",
   "pygments_lexer": "ipython3",
   "version": "3.6.4"
  }
 },
 "nbformat": 4,
 "nbformat_minor": 2
}
