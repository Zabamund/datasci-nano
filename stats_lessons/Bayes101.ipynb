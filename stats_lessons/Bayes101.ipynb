{
 "cells": [
  {
   "cell_type": "markdown",
   "metadata": {},
   "source": [
    "## Bayes Theorem example\n",
    "A simple implementation of Bayes Theorem following [wikipedia](https://en.wikipedia.org/wiki/Bayes%27_theorem).\n",
    "\n",
    "### Bayes Theorem\n",
    "This is the 'simple form' *senso* [wikipedia](https://en.wikipedia.org/wiki/Bayes%27_theorem#Simple_form)\n",
    "\n",
    "Bayes Theorem can be stated as:\n",
    "\n",
    "$P(H | E) = \\frac{P(E | H) P(H)}{P(E)}$\n",
    "\n",
    "where:\n",
    "<ul>\n",
    "<li>P(H | E) is the **P**robability of a **H**ypothesis being `True` given the **E**vidence</li>\n",
    "<li>P(E | H) is the **P**robability of the **E**vidence being `True` given a **H**ypothesis</li>\n",
    "<li>P(H) is the Prior **P**robability of the **H**ypothesis</li>\n",
    "<li>P(E) is the Prior **P**robability of the **E**vidence</li>\n",
    "<li>P(H) and P(E) are the probabilities of observing **H** and **E** independently of each other</li>\n",
    "</ul>\n"
   ]
  },
  {
   "cell_type": "markdown",
   "metadata": {},
   "source": [
    "### Drug testing example\n",
    "\n",
    "Source: [wikipedia](https://en.wikipedia.org/wiki/Bayes%27_theorem#Drug_testing)\n",
    "\n",
    "Suppose that a test for using a particular drug is 99% sensitive and 99% specific. That is, the test will produce 99% true positive results for drug users and 99% true negative results for non-drug users. Suppose that 0.5% of people are users of the drug. What is the probability that a randomly selected individual with a positive test is a drug user?\n"
   ]
  },
  {
   "cell_type": "code",
   "execution_count": 39,
   "metadata": {
    "collapsed": true
   },
   "outputs": [],
   "source": [
    "## Drug testing example:\n",
    "# Set up variables\n",
    "priorProbHyp = .005 # P(H)\n",
    "probEgivH = .99 # P(E|H)"
   ]
  },
  {
   "cell_type": "code",
   "execution_count": 40,
   "metadata": {
    "collapsed": true
   },
   "outputs": [],
   "source": [
    "# calculate Prior Probability given Evidence\n",
    "# initialize variable\n",
    "priorProbEv = 0 # P(E)\n",
    "# calculate value based on inputs\n",
    "priorProbEv = probEgivH * priorProbHyp + (1 - probEgivH) * (1 - priorProbHyp)"
   ]
  },
  {
   "cell_type": "code",
   "execution_count": 48,
   "metadata": {},
   "outputs": [
    {
     "data": {
      "text/plain": [
       "'The Probability of the Hypothesis being True given the Evidence is approximately: 0.3322'"
      ]
     },
     "execution_count": 48,
     "metadata": {},
     "output_type": "execute_result"
    }
   ],
   "source": [
    "# set up calculation\n",
    "probHgivE = 0 # P(H|E)\n",
    "prbHgivE = probEgivH * priorProbHyp / priorProbEv\n",
    "# report result\n",
    "'The Probability of the Hypothesis being True given the Evidence is approximately: ' + str(\"{:.4f}\".format(prbHgivE))"
   ]
  },
  {
   "cell_type": "code",
   "execution_count": 49,
   "metadata": {},
   "outputs": [
    {
     "data": {
      "text/plain": [
       "'33.22%'"
      ]
     },
     "execution_count": 49,
     "metadata": {},
     "output_type": "execute_result"
    }
   ],
   "source": [
    "# result as a percentage\n",
    "\"{:.2f}\".format(prbHgivE * 100)+\"%\""
   ]
  },
  {
   "cell_type": "code",
   "execution_count": null,
   "metadata": {
    "collapsed": true
   },
   "outputs": [],
   "source": []
  }
 ],
 "metadata": {
  "kernelspec": {
   "display_name": "Python [default]",
   "language": "python",
   "name": "python3"
  },
  "language_info": {
   "codemirror_mode": {
    "name": "ipython",
    "version": 3
   },
   "file_extension": ".py",
   "mimetype": "text/x-python",
   "name": "python",
   "nbconvert_exporter": "python",
   "pygments_lexer": "ipython3",
   "version": "3.6.4"
  }
 },
 "nbformat": 4,
 "nbformat_minor": 2
}
