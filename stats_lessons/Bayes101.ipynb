{
 "cells": [
  {
   "cell_type": "markdown",
   "metadata": {},
   "source": [
    "## Bayes Theorem example\n",
    "A simple implementation of Bayes Theorem following [wikipedia](https://en.wikipedia.org/wiki/Bayes%27_theorem).\n",
    "\n",
    "### Bayes Theorem\n",
    "This is the 'simple form' *senso* [wikipedia](https://en.wikipedia.org/wiki/Bayes%27_theorem#Simple_form)\n",
    "\n",
    "Bayes Theorem can be stated as:\n",
    "\n",
    "$P(H | E) = \\frac{P(E | H) P(H)}{P(E)}$\n",
    "\n",
    "where:\n",
    "<ul>\n",
    "<li>P(H | E) is the **P**robability of a **H**ypothesis being `True` given the **E**vidence</li>\n",
    "<li>P(E | H) is the **P**robability of the **E**vidence being `True` given a **H**ypothesis</li>\n",
    "<li>P(H) is the Prior **P**robability of the **H**ypothesis</li>\n",
    "<li>P(E) is the Prior **P**robability of the **E**vidence</li>\n",
    "<li>P(H) and P(E) are the probabilities of observing **H** and **E** independently of each other</li>\n",
    "</ul>\n"
   ]
  },
  {
   "cell_type": "markdown",
   "metadata": {},
   "source": [
    "### Drug testing example\n",
    "\n",
    "Source: [wikipedia](https://en.wikipedia.org/wiki/Bayes%27_theorem#Drug_testing)\n",
    "\n",
    "Suppose that a test for using a particular drug is 99% sensitive and 99% specific. That is, the test will produce 99% true positive results for drug users and 99% true negative results for non-drug users. Suppose that 0.5% of people are users of the drug. What is the probability that a randomly selected individual with a positive test is a drug user?\n",
    "\n",
    "***N.B:*** This function correctly reproduces the results from the source.\n"
   ]
  },
  {
   "cell_type": "code",
   "execution_count": 213,
   "metadata": {},
   "outputs": [],
   "source": [
    "## Drug testing example:\n",
    "# Set up variables\n",
    "priorProbHyp = .005 # P(H)\n",
    "probEgivH = .99 # P(E|H)"
   ]
  },
  {
   "cell_type": "code",
   "execution_count": 214,
   "metadata": {},
   "outputs": [],
   "source": [
    "# calculate Prior Probability given Evidence\n",
    "# initialize variable\n",
    "priorProbEv = 0 # P(E)\n",
    "# calculate value based on inputs\n",
    "priorProbEv = probEgivH * priorProbHyp + (1 - probEgivH) * (1 - priorProbHyp)"
   ]
  },
  {
   "cell_type": "code",
   "execution_count": 215,
   "metadata": {},
   "outputs": [
    {
     "data": {
      "text/plain": [
       "'The Probability of the Hypothesis being True given the Evidence is approximately: 0.3322'"
      ]
     },
     "execution_count": 215,
     "metadata": {},
     "output_type": "execute_result"
    }
   ],
   "source": [
    "# set up calculation\n",
    "probHgivE = 0 # P(H|E)\n",
    "prbHgivE = probEgivH * priorProbHyp / priorProbEv\n",
    "# report result\n",
    "'The Probability of the Hypothesis being True given the Evidence is approximately: ' + str(\"{:.4f}\".format(prbHgivE))"
   ]
  },
  {
   "cell_type": "code",
   "execution_count": 216,
   "metadata": {},
   "outputs": [
    {
     "data": {
      "text/plain": [
       "'33.22%'"
      ]
     },
     "execution_count": 216,
     "metadata": {},
     "output_type": "execute_result"
    }
   ],
   "source": [
    "# result as a percentage\n",
    "\"{:.2f}\".format(prbHgivE * 100)+\"%\""
   ]
  },
  {
   "cell_type": "markdown",
   "metadata": {},
   "source": [
    "### Cancer Screening example from youtube\n",
    "This example is taken from [this video](https://youtu.be/j2tNxIaGpR4) by [patrickJMT](https://www.youtube.com/channel/UCFe6jenM1Bc54qtBsIJGRZQ).\n",
    "\n",
    "It is based on cancer screening tests where:\n",
    "<ul>\n",
    "<li>1% of the population has cancer</li>\n",
    "<li>the test detects cancer with 90% accuracy</li>\n",
    "<li>the test detects no-cancer with 90% accuracy</li>\n",
    "</ul>\n",
    "\n",
    "***N.B:*** This function correctly reproduces the results from the source."
   ]
  },
  {
   "cell_type": "code",
   "execution_count": 274,
   "metadata": {},
   "outputs": [],
   "source": [
    "# Bayes Theorem:\n",
    "# PTruePositive = (PPositiveTrue) * PTrue / PPositive\n",
    "## set up variables\n",
    "\n",
    "#INPUT probability of True Hypothesis or condition\n",
    "PTrue = .01\n",
    "#CALC probability of False Hypothesis or condition\n",
    "PFalse = round(1. - PTrue, 4)\n",
    "\n",
    "#INPUT probability of positive True Test\n",
    "PPositiveTrue = .9\n",
    "#CALC probability of negative True Test\n",
    "PNegativeTrue = round(1. - PPositiveTrue, 4)\n",
    "\n",
    "#INPUT probability of Positive False Test\n",
    "PPositiveFalse = .1\n",
    "#CALC probability of Negative False Test\n",
    "PNegativeFalse = round(1. - PPositiveFalse, 4)\n",
    "\n",
    "#CALC probability of positive test\n",
    "PPositive = (PTrue * PPositiveTrue) + (PFalse * PPositiveFalse)\n",
    "\n",
    "#CALC probability of negative test\n",
    "PNegative = (PTrue * PNegativeTrue) + (PFalse * PNegativeFalse)"
   ]
  },
  {
   "cell_type": "markdown",
   "metadata": {},
   "source": [
    "Probability a patient who tested positive has cancer, or P(cancer|positive)"
   ]
  },
  {
   "cell_type": "code",
   "execution_count": 277,
   "metadata": {},
   "outputs": [
    {
     "data": {
      "text/plain": [
       "0.08333333333333333"
      ]
     },
     "execution_count": 277,
     "metadata": {},
     "output_type": "execute_result"
    }
   ],
   "source": [
    "# Calculations\n",
    "## Probability of True Positive\n",
    "PTruePositive = (PPositiveTrue * PTrue) / PPositive\n",
    "PTruePositive"
   ]
  },
  {
   "cell_type": "markdown",
   "metadata": {},
   "source": [
    "Probability a patient who tested positive doesn't have cancer, or P(~cancer|positive)"
   ]
  },
  {
   "cell_type": "code",
   "execution_count": 278,
   "metadata": {},
   "outputs": [
    {
     "data": {
      "text/plain": [
       "0.9166666666666666"
      ]
     },
     "execution_count": 278,
     "metadata": {},
     "output_type": "execute_result"
    }
   ],
   "source": [
    "## Probability of False Positive\n",
    "PFalsePositive = (PPositiveFalse * PFalse) / PPositive\n",
    "PFalsePositive"
   ]
  },
  {
   "cell_type": "markdown",
   "metadata": {},
   "source": [
    "Probability a patient who tested negative has cancer, or P(cancer|negative)"
   ]
  },
  {
   "cell_type": "code",
   "execution_count": 279,
   "metadata": {},
   "outputs": [
    {
     "data": {
      "text/plain": [
       "0.0011210762331838565"
      ]
     },
     "execution_count": 279,
     "metadata": {},
     "output_type": "execute_result"
    }
   ],
   "source": [
    "## Probability of True Negative\n",
    "PTrueNegative = (PNegativeTrue * PTrue) / PNegative\n",
    "PTrueNegative"
   ]
  },
  {
   "cell_type": "markdown",
   "metadata": {},
   "source": [
    "Probability a patient who tested negative doesn't have cancer, or P(~cancer|negative)"
   ]
  },
  {
   "cell_type": "code",
   "execution_count": 280,
   "metadata": {},
   "outputs": [
    {
     "data": {
      "text/plain": [
       "0.9988789237668162"
      ]
     },
     "execution_count": 280,
     "metadata": {},
     "output_type": "execute_result"
    }
   ],
   "source": [
    "## Probability of False Negative\n",
    "PFalseNegative = (PNegativeFalse * PFalse) / PNegative\n",
    "PFalseNegative"
   ]
  },
  {
   "cell_type": "markdown",
   "metadata": {},
   "source": [
    "### Data from Udacity Lesson 8 point 7\n",
    "\n",
    "If I plug these values in the function above like so:\n",
    "\n",
    "<ul>\n",
    "<li>PTrue = .105</li>\n",
    "<li>PPositiveTrue = .905</li>\n",
    "<li>PPositiveFalse = .204</li>\n",
    "</ul>\n",
    "\n",
    "***N.B:*** with these values, the results do match those provided in Udacity Lesson 8 point 7."
   ]
  },
  {
   "cell_type": "markdown",
   "metadata": {
    "collapsed": true
   },
   "source": [
    "### Input data from Udacity\n",
    "P(cancer) = 0.105\tProbability a patient has cancer\n",
    "\n",
    "P(~cancer) = 0.895\tProbability a patient does not have cancer\n",
    "\n",
    "P(positive|cancer) = 0.905\tProbability a patient with cancer tests positive\n",
    "\n",
    "P(negative|cancer) = 0.095\tProbability a patient with cancer tests negative\n",
    "\n",
    "P(positive|~cancer) = 0.204\tProbability a patient without cancer tests positive\n",
    "\n",
    "P(negative|~cancer) = 0.796\tProbability a patient without cancer tests negative\n"
   ]
  },
  {
   "cell_type": "code",
   "execution_count": null,
   "metadata": {
    "collapsed": true
   },
   "outputs": [],
   "source": []
  }
 ],
 "metadata": {
  "kernelspec": {
   "display_name": "Python [default]",
   "language": "python",
   "name": "python3"
  },
  "language_info": {
   "codemirror_mode": {
    "name": "ipython",
    "version": 3
   },
   "file_extension": ".py",
   "mimetype": "text/x-python",
   "name": "python",
   "nbconvert_exporter": "python",
   "pygments_lexer": "ipython3",
   "version": "3.6.4"
  }
 },
 "nbformat": 4,
 "nbformat_minor": 2
}
