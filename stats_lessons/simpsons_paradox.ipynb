{
 "cells": [
  {
   "cell_type": "markdown",
   "metadata": {
    "collapsed": true
   },
   "source": [
    "# Simpson's Paradox\n",
    "Use `admission_data.csv` for this exercise."
   ]
  },
  {
   "cell_type": "code",
   "execution_count": 1,
   "metadata": {},
   "outputs": [
    {
     "data": {
      "text/html": [
       "<div>\n",
       "<style>\n",
       "    .dataframe thead tr:only-child th {\n",
       "        text-align: right;\n",
       "    }\n",
       "\n",
       "    .dataframe thead th {\n",
       "        text-align: left;\n",
       "    }\n",
       "\n",
       "    .dataframe tbody tr th {\n",
       "        vertical-align: top;\n",
       "    }\n",
       "</style>\n",
       "<table border=\"1\" class=\"dataframe\">\n",
       "  <thead>\n",
       "    <tr style=\"text-align: right;\">\n",
       "      <th></th>\n",
       "      <th>student_id</th>\n",
       "      <th>gender</th>\n",
       "      <th>major</th>\n",
       "      <th>admitted</th>\n",
       "    </tr>\n",
       "  </thead>\n",
       "  <tbody>\n",
       "    <tr>\n",
       "      <th>0</th>\n",
       "      <td>35377</td>\n",
       "      <td>female</td>\n",
       "      <td>Chemistry</td>\n",
       "      <td>False</td>\n",
       "    </tr>\n",
       "    <tr>\n",
       "      <th>1</th>\n",
       "      <td>56105</td>\n",
       "      <td>male</td>\n",
       "      <td>Physics</td>\n",
       "      <td>True</td>\n",
       "    </tr>\n",
       "    <tr>\n",
       "      <th>2</th>\n",
       "      <td>31441</td>\n",
       "      <td>female</td>\n",
       "      <td>Chemistry</td>\n",
       "      <td>False</td>\n",
       "    </tr>\n",
       "    <tr>\n",
       "      <th>3</th>\n",
       "      <td>51765</td>\n",
       "      <td>male</td>\n",
       "      <td>Physics</td>\n",
       "      <td>True</td>\n",
       "    </tr>\n",
       "    <tr>\n",
       "      <th>4</th>\n",
       "      <td>53714</td>\n",
       "      <td>female</td>\n",
       "      <td>Physics</td>\n",
       "      <td>True</td>\n",
       "    </tr>\n",
       "  </tbody>\n",
       "</table>\n",
       "</div>"
      ],
      "text/plain": [
       "   student_id  gender      major  admitted\n",
       "0       35377  female  Chemistry     False\n",
       "1       56105    male    Physics      True\n",
       "2       31441  female  Chemistry     False\n",
       "3       51765    male    Physics      True\n",
       "4       53714  female    Physics      True"
      ]
     },
     "execution_count": 1,
     "metadata": {},
     "output_type": "execute_result"
    }
   ],
   "source": [
    "# Load and view first few lines of dataset\n",
    "import pandas as pd\n",
    "import numpy as np\n",
    "% matplotlib inline\n",
    "df = pd.read_csv('admission_data.csv')\n",
    "df.head()"
   ]
  },
  {
   "cell_type": "markdown",
   "metadata": {},
   "source": [
    "### Proportion and admission rate for each gender"
   ]
  },
  {
   "cell_type": "code",
   "execution_count": 2,
   "metadata": {},
   "outputs": [
    {
     "data": {
      "text/plain": [
       "'proportion of female students = 0.514'"
      ]
     },
     "execution_count": 2,
     "metadata": {},
     "output_type": "execute_result"
    }
   ],
   "source": [
    "# Proportion of students that are female\n",
    "count_genders = df.gender.value_counts()\n",
    "ratio_f = count_genders.female / (count_genders.female + count_genders.male)\n",
    "\"proportion of female students = \" + \"{:2.3f}\".format(ratio_f)"
   ]
  },
  {
   "cell_type": "code",
   "execution_count": 3,
   "metadata": {},
   "outputs": [
    {
     "data": {
      "text/plain": [
       "'proportion of male students = 0.486'"
      ]
     },
     "execution_count": 3,
     "metadata": {},
     "output_type": "execute_result"
    }
   ],
   "source": [
    "# Proportion of students that are male\n",
    "count_genders = df.gender.value_counts()\n",
    "ratio_m = count_genders.male / (count_genders.female + count_genders.male)\n",
    "\"proportion of male students = \" + \"{:2.3f}\".format(ratio_m)"
   ]
  },
  {
   "cell_type": "code",
   "execution_count": 4,
   "metadata": {},
   "outputs": [
    {
     "data": {
      "text/plain": [
       "'admission rate females = 0.288'"
      ]
     },
     "execution_count": 4,
     "metadata": {},
     "output_type": "execute_result"
    }
   ],
   "source": [
    "# Admission rate for females\n",
    "admitted_f = (df[(df.gender == \"female\") & (df.admitted == True)]).count()\n",
    "admission_rate_f = admitted_f / count_genders.female\n",
    "\"admission rate females = \" + \"{:2.3f}\".format(admission_rate_f.major)"
   ]
  },
  {
   "cell_type": "code",
   "execution_count": 5,
   "metadata": {},
   "outputs": [
    {
     "data": {
      "text/plain": [
       "'admission rate males = 0.486'"
      ]
     },
     "execution_count": 5,
     "metadata": {},
     "output_type": "execute_result"
    }
   ],
   "source": [
    "# Admission rate for males\n",
    "admitted_m = (df[(df.gender == \"male\") & (df.admitted == True)]).count()\n",
    "admission_rate_m = admitted_m / count_genders.male\n",
    "\"admission rate males = \" + \"{:2.3f}\".format(admission_rate_m.major)"
   ]
  },
  {
   "cell_type": "markdown",
   "metadata": {},
   "source": [
    "### Proportion and admission rate for physics majors of each gender"
   ]
  },
  {
   "cell_type": "code",
   "execution_count": 6,
   "metadata": {},
   "outputs": [
    {
     "data": {
      "text/plain": [
       "'ratio Physics females = 0.121'"
      ]
     },
     "execution_count": 6,
     "metadata": {},
     "output_type": "execute_result"
    }
   ],
   "source": [
    "# What proportion of female students are majoring in physics?\n",
    "count_f_physics = df[(df.gender == \"female\") & (df.major == \"Physics\")].count()\n",
    "ratio_f_physics = count_f_physics / count_genders.female\n",
    "\"ratio Physics females = \" + \"{:2.3f}\".format(ratio_f_physics.major)"
   ]
  },
  {
   "cell_type": "code",
   "execution_count": 7,
   "metadata": {},
   "outputs": [
    {
     "data": {
      "text/plain": [
       "'ratio Physics males = 0.926'"
      ]
     },
     "execution_count": 7,
     "metadata": {},
     "output_type": "execute_result"
    }
   ],
   "source": [
    "# What proportion of male students are majoring in physics?\n",
    "count_m_physics = df[(df.gender == \"male\") & (df.major == \"Physics\")].count()\n",
    "ratio_m_physics = count_m_physics / count_genders.male\n",
    "\"ratio Physics males = \" + \"{:2.3f}\".format(ratio_m_physics.major)"
   ]
  },
  {
   "cell_type": "code",
   "execution_count": 14,
   "metadata": {},
   "outputs": [
    {
     "data": {
      "text/plain": [
       "'ratio Physics female admitted = 0.742'"
      ]
     },
     "execution_count": 14,
     "metadata": {},
     "output_type": "execute_result"
    }
   ],
   "source": [
    "# Admission rate for female physics majors\n",
    "count_f_physics_admitted = df[(df.gender == \"female\") & (df.major == \"Physics\") & (df.admitted == True)].count()\n",
    "ratio_f_physics_admitted = count_f_physics_admitted / count_f_physics\n",
    "\"ratio Physics female admitted = \" + \"{:2.3f}\".format(ratio_f_physics_admitted.major)"
   ]
  },
  {
   "cell_type": "code",
   "execution_count": 15,
   "metadata": {},
   "outputs": [
    {
     "data": {
      "text/plain": [
       "'ratio Physics male admitted = 0.516'"
      ]
     },
     "execution_count": 15,
     "metadata": {},
     "output_type": "execute_result"
    }
   ],
   "source": [
    "# Admission rate for male physics majors\n",
    "count_m_physics_admitted = df[(df.gender == \"male\") & (df.major == \"Physics\") & (df.admitted == True)].count()\n",
    "ratio_m_physics_admitted = count_m_physics_admitted / count_m_physics\n",
    "\"ratio Physics male admitted = \" + \"{:2.3f}\".format(ratio_m_physics_admitted.major)"
   ]
  },
  {
   "cell_type": "markdown",
   "metadata": {},
   "source": [
    "### Proportion and admission rate for chemistry majors of each gender"
   ]
  },
  {
   "cell_type": "code",
   "execution_count": 16,
   "metadata": {},
   "outputs": [
    {
     "data": {
      "text/plain": [
       "'ratio Chemistry females = 0.879'"
      ]
     },
     "execution_count": 16,
     "metadata": {},
     "output_type": "execute_result"
    }
   ],
   "source": [
    "# What proportion of female students are majoring in chemistry?\n",
    "count_f_chemistry = df[(df.gender == \"female\") & (df.major == \"Chemistry\")].count()\n",
    "ratio_f_chemistry = count_f_chemistry / count_genders.female\n",
    "\"ratio Chemistry females = \" + \"{:2.3f}\".format(ratio_f_chemistry.major)"
   ]
  },
  {
   "cell_type": "code",
   "execution_count": 17,
   "metadata": {},
   "outputs": [
    {
     "data": {
      "text/plain": [
       "'ratio Chemistry males = 0.074'"
      ]
     },
     "execution_count": 17,
     "metadata": {},
     "output_type": "execute_result"
    }
   ],
   "source": [
    "# What proportion of male students are majoring in chemistry?\n",
    "count_m_chemistry = df[(df.gender == \"male\") & (df.major == \"Chemistry\")].count()\n",
    "ratio_m_chemistry = count_m_chemistry / count_genders.male\n",
    "\"ratio Chemistry males = \" + \"{:2.3f}\".format(ratio_m_chemistry.major)"
   ]
  },
  {
   "cell_type": "code",
   "execution_count": 18,
   "metadata": {},
   "outputs": [
    {
     "data": {
      "text/plain": [
       "'ratio Chemistry female admitted = 0.226'"
      ]
     },
     "execution_count": 18,
     "metadata": {},
     "output_type": "execute_result"
    }
   ],
   "source": [
    "# Admission rate for female chemistry majors\n",
    "count_f_chemistry_admitted = df[(df.gender == \"female\") & (df.major == \"Chemistry\") & (df.admitted == True)].count()\n",
    "ratio_f_chemistry_admitted = count_f_chemistry_admitted / count_f_chemistry\n",
    "\"ratio Chemistry female admitted = \" + \"{:2.3f}\".format(ratio_f_chemistry_admitted.major)"
   ]
  },
  {
   "cell_type": "code",
   "execution_count": 19,
   "metadata": {},
   "outputs": [
    {
     "data": {
      "text/plain": [
       "'ratio Chemistry male admitted = 0.111'"
      ]
     },
     "execution_count": 19,
     "metadata": {},
     "output_type": "execute_result"
    }
   ],
   "source": [
    "# Admission rate for male chemistry majors\n",
    "count_m_chemistry_admitted = df[(df.gender == \"male\") & (df.major == \"Chemistry\") & (df.admitted == True)].count()\n",
    "ratio_m_chemistry_admitted = count_m_chemistry_admitted / count_m_chemistry\n",
    "\"ratio Chemistry male admitted = \" + \"{:2.3f}\".format(ratio_m_chemistry_admitted.major)"
   ]
  },
  {
   "cell_type": "markdown",
   "metadata": {},
   "source": [
    "### Admission rate for each major"
   ]
  },
  {
   "cell_type": "code",
   "execution_count": 25,
   "metadata": {},
   "outputs": [
    {
     "data": {
      "text/plain": [
       "'Admission rate Physics = 0.543'"
      ]
     },
     "execution_count": 25,
     "metadata": {},
     "output_type": "execute_result"
    }
   ],
   "source": [
    "# Admission rate for physics majors\n",
    "count_physics = df[(df.major == \"Physics\")].count()\n",
    "count_physics_admitted = df[(df.major == \"Physics\") & (df.admitted == True)].count()\n",
    "ratio_physics_admissions = count_physics_admitted / count_physics.major\n",
    "\"Admission rate Physics = \" + \"{:2.3f}\".format(ratio_physics_admissions.major)"
   ]
  },
  {
   "cell_type": "code",
   "execution_count": 26,
   "metadata": {},
   "outputs": [
    {
     "data": {
      "text/plain": [
       "'Admission rate Chemistry = 0.217'"
      ]
     },
     "execution_count": 26,
     "metadata": {},
     "output_type": "execute_result"
    }
   ],
   "source": [
    "# Admission rate for chemistry majors\n",
    "count_chemistry = df[(df.major == \"Chemistry\")].count()\n",
    "count_chemistry_admitted = df[(df.major == \"Chemistry\") & (df.admitted == True)].count()\n",
    "ratio_chemistry_admissions = count_chemistry_admitted / count_chemistry.major\n",
    "\"Admission rate Chemistry = \" + \"{:2.3f}\".format(ratio_chemistry_admissions.major)"
   ]
  },
  {
   "cell_type": "code",
   "execution_count": null,
   "metadata": {},
   "outputs": [],
   "source": []
  }
 ],
 "metadata": {
  "kernelspec": {
   "display_name": "Python 3",
   "language": "python",
   "name": "python3"
  },
  "language_info": {
   "codemirror_mode": {
    "name": "ipython",
    "version": 3
   },
   "file_extension": ".py",
   "mimetype": "text/x-python",
   "name": "python",
   "nbconvert_exporter": "python",
   "pygments_lexer": "ipython3",
   "version": "3.6.3"
  }
 },
 "nbformat": 4,
 "nbformat_minor": 2
}
