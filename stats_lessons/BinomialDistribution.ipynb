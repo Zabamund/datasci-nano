{
 "cells": [
  {
   "cell_type": "markdown",
   "metadata": {},
   "source": [
    "# The Binomial Distribution\n",
    "The Binomial Distribution helps us determine the probability of a string of independent 'coin flip like events'.\n",
    "\n",
    "The probability mass function associated with the binomial distribution is of the following form:\n",
    "\n",
    "$P(X = x) = \\frac{n!}{x!(n-x)!}p^x(1-p)^{n-x}$ \n",
    "\n",
    "where n is the number of events, x is the number of \"successes\", and p is the probability of \"success\".\n",
    "\n",
    "We can now use this distribution to determine the probability of things like:\n",
    "\n",
    "<ul>\n",
    "<li>The probability of 3 heads occurring in 10 flips.</li>\n",
    "<li>The probability of observing 8 or more heads occurring in 10 flips.</li>\n",
    "<li>The probability of not observing any heads in 20 flips.</li>\n",
    "</ul>\n",
    "\n",
    "*Reference:* [udacity](https://eu.udacity.com/course/data-analyst-nanodegree--nd002), Chapter 4, Lesson 5"
   ]
  },
  {
   "cell_type": "code",
   "execution_count": 3,
   "metadata": {
    "collapsed": true
   },
   "outputs": [],
   "source": [
    "# imports\n",
    "from math import factorial as fact"
   ]
  },
  {
   "cell_type": "code",
   "execution_count": 4,
   "metadata": {
    "collapsed": true
   },
   "outputs": [],
   "source": [
    "# initialize variables\n",
    "# change these variable values to use function\n",
    "n = 2 # number of events\n",
    "x = 2 # number of True outcomes\n",
    "p = .5 # probability of True outcome\n",
    "P = 0"
   ]
  },
  {
   "cell_type": "code",
   "execution_count": 5,
   "metadata": {},
   "outputs": [
    {
     "data": {
      "text/plain": [
       "0.25"
      ]
     },
     "execution_count": 5,
     "metadata": {},
     "output_type": "execute_result"
    }
   ],
   "source": [
    "# set up equation\n",
    "P = (fact(n) / (fact(x) * fact(n-x))) * p**x * (1-p)**(n-x) \n",
    "round(P,3)"
   ]
  },
  {
   "cell_type": "code",
   "execution_count": null,
   "metadata": {
    "collapsed": true
   },
   "outputs": [],
   "source": []
  }
 ],
 "metadata": {
  "kernelspec": {
   "display_name": "Python [default]",
   "language": "python",
   "name": "python3"
  },
  "language_info": {
   "codemirror_mode": {
    "name": "ipython",
    "version": 3
   },
   "file_extension": ".py",
   "mimetype": "text/x-python",
   "name": "python",
   "nbconvert_exporter": "python",
   "pygments_lexer": "ipython3",
   "version": "3.6.4"
  }
 },
 "nbformat": 4,
 "nbformat_minor": 2
}
